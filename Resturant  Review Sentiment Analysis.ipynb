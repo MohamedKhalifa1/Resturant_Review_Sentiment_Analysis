{
 "cells": [
  {
   "cell_type": "code",
   "execution_count": 52,
   "id": "08e1391d",
   "metadata": {},
   "outputs": [],
   "source": [
    "import numpy as np \n",
    "import pandas as pd\n",
    "import matplotlib.pyplot as plt\n",
    "import seaborn as sns"
   ]
  },
  {
   "cell_type": "code",
   "execution_count": 53,
   "id": "e1e9cb2e",
   "metadata": {},
   "outputs": [],
   "source": [
    "df=pd.read_csv(\"scraped_df.csv\")"
   ]
  },
  {
   "cell_type": "code",
   "execution_count": 54,
   "id": "22473d2c",
   "metadata": {
    "scrolled": true
   },
   "outputs": [
    {
     "data": {
      "text/html": [
       "<div>\n",
       "<style scoped>\n",
       "    .dataframe tbody tr th:only-of-type {\n",
       "        vertical-align: middle;\n",
       "    }\n",
       "\n",
       "    .dataframe tbody tr th {\n",
       "        vertical-align: top;\n",
       "    }\n",
       "\n",
       "    .dataframe thead th {\n",
       "        text-align: right;\n",
       "    }\n",
       "</style>\n",
       "<table border=\"1\" class=\"dataframe\">\n",
       "  <thead>\n",
       "    <tr style=\"text-align: right;\">\n",
       "      <th></th>\n",
       "      <th>Unnamed: 0</th>\n",
       "      <th>Reviews</th>\n",
       "      <th>sentiment</th>\n",
       "      <th>hugging_face_label</th>\n",
       "    </tr>\n",
       "  </thead>\n",
       "  <tbody>\n",
       "    <tr>\n",
       "      <th>0</th>\n",
       "      <td>0</td>\n",
       "      <td>Disappointed. Surprisingly disappointed. I hav...</td>\n",
       "      <td>0.0</td>\n",
       "      <td>0</td>\n",
       "    </tr>\n",
       "    <tr>\n",
       "      <th>1</th>\n",
       "      <td>1</td>\n",
       "      <td>Food good but waiter should advise patrons on ...</td>\n",
       "      <td>0.0</td>\n",
       "      <td>0</td>\n",
       "    </tr>\n",
       "    <tr>\n",
       "      <th>2</th>\n",
       "      <td>2</td>\n",
       "      <td>Recently visited Ballygunge Place restaurant f...</td>\n",
       "      <td>1.0</td>\n",
       "      <td>1</td>\n",
       "    </tr>\n",
       "    <tr>\n",
       "      <th>3</th>\n",
       "      <td>3</td>\n",
       "      <td>I was very disapoint that they do not serve ge...</td>\n",
       "      <td>0.0</td>\n",
       "      <td>0</td>\n",
       "    </tr>\n",
       "    <tr>\n",
       "      <th>4</th>\n",
       "      <td>4</td>\n",
       "      <td>We visited 6 Ballygunge for a meal this Novemb...</td>\n",
       "      <td>1.0</td>\n",
       "      <td>1</td>\n",
       "    </tr>\n",
       "  </tbody>\n",
       "</table>\n",
       "</div>"
      ],
      "text/plain": [
       "   Unnamed: 0                                            Reviews  sentiment  \\\n",
       "0           0  Disappointed. Surprisingly disappointed. I hav...        0.0   \n",
       "1           1  Food good but waiter should advise patrons on ...        0.0   \n",
       "2           2  Recently visited Ballygunge Place restaurant f...        1.0   \n",
       "3           3  I was very disapoint that they do not serve ge...        0.0   \n",
       "4           4  We visited 6 Ballygunge for a meal this Novemb...        1.0   \n",
       "\n",
       "   hugging_face_label  \n",
       "0                   0  \n",
       "1                   0  \n",
       "2                   1  \n",
       "3                   0  \n",
       "4                   1  "
      ]
     },
     "execution_count": 54,
     "metadata": {},
     "output_type": "execute_result"
    }
   ],
   "source": [
    "df.head()"
   ]
  },
  {
   "cell_type": "code",
   "execution_count": 55,
   "id": "60671176",
   "metadata": {},
   "outputs": [],
   "source": [
    "df.drop(columns=['Unnamed: 0','hugging_face_label'],inplace=True)"
   ]
  },
  {
   "cell_type": "code",
   "execution_count": 56,
   "id": "2dd12b5c",
   "metadata": {},
   "outputs": [
    {
     "name": "stdout",
     "output_type": "stream",
     "text": [
      "<class 'pandas.core.frame.DataFrame'>\n",
      "RangeIndex: 679 entries, 0 to 678\n",
      "Data columns (total 2 columns):\n",
      " #   Column     Non-Null Count  Dtype  \n",
      "---  ------     --------------  -----  \n",
      " 0   Reviews    679 non-null    object \n",
      " 1   sentiment  633 non-null    float64\n",
      "dtypes: float64(1), object(1)\n",
      "memory usage: 10.7+ KB\n"
     ]
    }
   ],
   "source": [
    "df.info()"
   ]
  },
  {
   "cell_type": "code",
   "execution_count": 57,
   "id": "861be302",
   "metadata": {},
   "outputs": [
    {
     "data": {
      "text/plain": [
       "Reviews       0\n",
       "sentiment    46\n",
       "dtype: int64"
      ]
     },
     "execution_count": 57,
     "metadata": {},
     "output_type": "execute_result"
    }
   ],
   "source": [
    "df.isna().sum()"
   ]
  },
  {
   "cell_type": "code",
   "execution_count": 58,
   "id": "a165ee60",
   "metadata": {},
   "outputs": [],
   "source": [
    "df.dropna(inplace=True)"
   ]
  },
  {
   "cell_type": "code",
   "execution_count": 59,
   "id": "2ce9a5d1",
   "metadata": {},
   "outputs": [],
   "source": [
    "df.drop_duplicates(inplace=True)"
   ]
  },
  {
   "cell_type": "code",
   "execution_count": 60,
   "id": "a97122e9",
   "metadata": {},
   "outputs": [],
   "source": [
    "df = df.reset_index(drop=True)\n"
   ]
  },
  {
   "cell_type": "code",
   "execution_count": 104,
   "id": "f64acd9f",
   "metadata": {},
   "outputs": [
    {
     "data": {
      "image/png": "[encoded data removed]",
      "text/plain": [
       "<Figure size 800x1000 with 1 Axes>"
      ]
     },
     "metadata": {},
     "output_type": "display_data"
    }
   ],
   "source": [
    "plt.figure(figsize=(8,10))\n",
    "sns.countplot(x=df['sentiment'])\n",
    "plt.show()"
   ]
  },
  {
   "cell_type": "code",
   "execution_count": 62,
   "id": "d15b896e",
   "metadata": {},
   "outputs": [],
   "source": [
    "s=df['Reviews'][0]\n"
   ]
  },
  {
   "cell_type": "code",
   "execution_count": 63,
   "id": "826e9b29",
   "metadata": {},
   "outputs": [],
   "source": [
    "s=s.lower()"
   ]
  },
  {
   "cell_type": "code",
   "execution_count": 64,
   "id": "8fe0a9a3",
   "metadata": {},
   "outputs": [
    {
     "data": {
      "text/plain": [
       "'disappointed. surprisingly disappointed. i have eaten at the main restaurant a few times and the experience has been nice though the prices are a bit much. however a visit to their outlet at chowringhee was a disaster! to begin with when we reserved a table...more'"
      ]
     },
     "execution_count": 64,
     "metadata": {},
     "output_type": "execute_result"
    }
   ],
   "source": [
    "s"
   ]
  },
  {
   "cell_type": "code",
   "execution_count": 65,
   "id": "6b8e31c6",
   "metadata": {},
   "outputs": [
    {
     "name": "stderr",
     "output_type": "stream",
     "text": [
      "[nltk_data] Downloading package punkt to\n",
      "[nltk_data]     C:\\Users\\lab11\\AppData\\Roaming\\nltk_data...\n",
      "[nltk_data]   Package punkt is already up-to-date!\n"
     ]
    },
    {
     "data": {
      "text/plain": [
       "True"
      ]
     },
     "execution_count": 65,
     "metadata": {},
     "output_type": "execute_result"
    }
   ],
   "source": [
    "from nltk.tokenize import word_tokenize\n",
    "import nltk\n",
    "nltk.download('punkt')"
   ]
  },
  {
   "cell_type": "code",
   "execution_count": 66,
   "id": "34f7a6d8",
   "metadata": {},
   "outputs": [],
   "source": [
    "s=word_tokenize(s)"
   ]
  },
  {
   "cell_type": "code",
   "execution_count": 67,
   "id": "70adf451",
   "metadata": {},
   "outputs": [
    {
     "data": {
      "text/plain": [
       "['disappointed',\n",
       " '.',\n",
       " 'surprisingly',\n",
       " 'disappointed',\n",
       " '.',\n",
       " 'i',\n",
       " 'have',\n",
       " 'eaten',\n",
       " 'at',\n",
       " 'the',\n",
       " 'main',\n",
       " 'restaurant',\n",
       " 'a',\n",
       " 'few',\n",
       " 'times',\n",
       " 'and',\n",
       " 'the',\n",
       " 'experience',\n",
       " 'has',\n",
       " 'been',\n",
       " 'nice',\n",
       " 'though',\n",
       " 'the',\n",
       " 'prices',\n",
       " 'are',\n",
       " 'a',\n",
       " 'bit',\n",
       " 'much',\n",
       " '.',\n",
       " 'however',\n",
       " 'a',\n",
       " 'visit',\n",
       " 'to',\n",
       " 'their',\n",
       " 'outlet',\n",
       " 'at',\n",
       " 'chowringhee',\n",
       " 'was',\n",
       " 'a',\n",
       " 'disaster',\n",
       " '!',\n",
       " 'to',\n",
       " 'begin',\n",
       " 'with',\n",
       " 'when',\n",
       " 'we',\n",
       " 'reserved',\n",
       " 'a',\n",
       " 'table',\n",
       " '...',\n",
       " 'more']"
      ]
     },
     "execution_count": 67,
     "metadata": {},
     "output_type": "execute_result"
    }
   ],
   "source": [
    "s"
   ]
  },
  {
   "cell_type": "code",
   "execution_count": 68,
   "id": "b97e517f",
   "metadata": {},
   "outputs": [
    {
     "name": "stderr",
     "output_type": "stream",
     "text": [
      "[nltk_data] Downloading package stopwords to\n",
      "[nltk_data]     C:\\Users\\lab11\\AppData\\Roaming\\nltk_data...\n",
      "[nltk_data]   Package stopwords is already up-to-date!\n"
     ]
    },
    {
     "data": {
      "text/plain": [
       "True"
      ]
     },
     "execution_count": 68,
     "metadata": {},
     "output_type": "execute_result"
    }
   ],
   "source": [
    "from nltk.corpus import stopwords\n",
    "nltk.download('stopwords')\n"
   ]
  },
  {
   "cell_type": "code",
   "execution_count": 69,
   "id": "1c7b15b2",
   "metadata": {},
   "outputs": [],
   "source": [
    "stopwords=set(stopwords.words(\"english\"))"
   ]
  },
  {
   "cell_type": "code",
   "execution_count": 70,
   "id": "a9439e6c",
   "metadata": {},
   "outputs": [],
   "source": [
    "s=[ word for word in s if word not in stopwords ]\n"
   ]
  },
  {
   "cell_type": "code",
   "execution_count": 71,
   "id": "e059a24b",
   "metadata": {},
   "outputs": [
    {
     "data": {
      "text/plain": [
       "'disappointed . surprisingly disappointed . eaten main restaurant times experience nice though prices bit much . however visit outlet chowringhee disaster ! begin reserved table ...'"
      ]
     },
     "execution_count": 71,
     "metadata": {},
     "output_type": "execute_result"
    }
   ],
   "source": [
    "s=\" \".join(s)\n",
    "s\n",
    "\n"
   ]
  },
  {
   "cell_type": "code",
   "execution_count": 72,
   "id": "449d05c1",
   "metadata": {},
   "outputs": [],
   "source": [
    "import re"
   ]
  },
  {
   "cell_type": "code",
   "execution_count": 73,
   "id": "465b45d2",
   "metadata": {},
   "outputs": [],
   "source": [
    "patterns=r\"[^a-zA-Z\\s]\""
   ]
  },
  {
   "cell_type": "code",
   "execution_count": 74,
   "id": "05391b97",
   "metadata": {},
   "outputs": [],
   "source": [
    "cleaned_s=re.sub(patterns,\"\",s)"
   ]
  },
  {
   "cell_type": "code",
   "execution_count": 75,
   "id": "983b9073",
   "metadata": {},
   "outputs": [
    {
     "data": {
      "text/plain": [
       "'disappointed  surprisingly disappointed  eaten main restaurant times experience nice though prices bit much  however visit outlet chowringhee disaster  begin reserved table '"
      ]
     },
     "execution_count": 75,
     "metadata": {},
     "output_type": "execute_result"
    }
   ],
   "source": [
    "cleaned_s"
   ]
  },
  {
   "cell_type": "code",
   "execution_count": 76,
   "id": "9f56eac2",
   "metadata": {},
   "outputs": [],
   "source": [
    "from nltk.stem import PorterStemmer ,SnowballStemmer,WordNetLemmatizer\n"
   ]
  },
  {
   "cell_type": "code",
   "execution_count": 77,
   "id": "35bd357b",
   "metadata": {},
   "outputs": [],
   "source": [
    "stemmer=PorterStemmer()"
   ]
  },
  {
   "cell_type": "code",
   "execution_count": 78,
   "id": "760c529f",
   "metadata": {},
   "outputs": [],
   "source": [
    "temp=[]\n",
    "s=cleaned_s.split()"
   ]
  },
  {
   "cell_type": "code",
   "execution_count": 79,
   "id": "b89b30ac",
   "metadata": {},
   "outputs": [
    {
     "data": {
      "text/plain": [
       "['disappointed',\n",
       " 'surprisingly',\n",
       " 'disappointed',\n",
       " 'eaten',\n",
       " 'main',\n",
       " 'restaurant',\n",
       " 'times',\n",
       " 'experience',\n",
       " 'nice',\n",
       " 'though',\n",
       " 'prices',\n",
       " 'bit',\n",
       " 'much',\n",
       " 'however',\n",
       " 'visit',\n",
       " 'outlet',\n",
       " 'chowringhee',\n",
       " 'disaster',\n",
       " 'begin',\n",
       " 'reserved',\n",
       " 'table']"
      ]
     },
     "execution_count": 79,
     "metadata": {},
     "output_type": "execute_result"
    }
   ],
   "source": [
    "s"
   ]
  },
  {
   "cell_type": "code",
   "execution_count": 80,
   "id": "29b37485",
   "metadata": {},
   "outputs": [],
   "source": [
    "s=[stemmer.stem(word) for word in s]"
   ]
  },
  {
   "cell_type": "code",
   "execution_count": 81,
   "id": "532b7372",
   "metadata": {},
   "outputs": [],
   "source": [
    "from sklearn.feature_extraction.text import CountVectorizer"
   ]
  },
  {
   "cell_type": "code",
   "execution_count": 82,
   "id": "e75c982f",
   "metadata": {},
   "outputs": [],
   "source": [
    "cv=CountVectorizer()"
   ]
  },
  {
   "cell_type": "code",
   "execution_count": 83,
   "id": "7e82a8d3",
   "metadata": {},
   "outputs": [
    {
     "data": {
      "text/plain": [
       "array([[0, 0, 0, 1, 0, 0, 0, 0, 0, 0, 0, 0, 0, 0, 0, 0, 0, 0, 0, 0],\n",
       "       [0, 0, 0, 0, 0, 0, 0, 0, 0, 0, 0, 0, 0, 0, 0, 1, 0, 0, 0, 0],\n",
       "       [0, 0, 0, 1, 0, 0, 0, 0, 0, 0, 0, 0, 0, 0, 0, 0, 0, 0, 0, 0],\n",
       "       [0, 0, 0, 0, 0, 1, 0, 0, 0, 0, 0, 0, 0, 0, 0, 0, 0, 0, 0, 0],\n",
       "       [0, 0, 0, 0, 0, 0, 0, 0, 1, 0, 0, 0, 0, 0, 0, 0, 0, 0, 0, 0],\n",
       "       [0, 0, 0, 0, 0, 0, 0, 0, 0, 0, 0, 0, 0, 0, 1, 0, 0, 0, 0, 0],\n",
       "       [0, 0, 0, 0, 0, 0, 0, 0, 0, 0, 0, 0, 0, 0, 0, 0, 0, 0, 1, 0],\n",
       "       [0, 0, 0, 0, 0, 0, 1, 0, 0, 0, 0, 0, 0, 0, 0, 0, 0, 0, 0, 0],\n",
       "       [0, 0, 0, 0, 0, 0, 0, 0, 0, 0, 1, 0, 0, 0, 0, 0, 0, 0, 0, 0],\n",
       "       [0, 0, 0, 0, 0, 0, 0, 0, 0, 0, 0, 0, 0, 0, 0, 0, 0, 1, 0, 0],\n",
       "       [0, 0, 0, 0, 0, 0, 0, 0, 0, 0, 0, 0, 1, 0, 0, 0, 0, 0, 0, 0],\n",
       "       [0, 1, 0, 0, 0, 0, 0, 0, 0, 0, 0, 0, 0, 0, 0, 0, 0, 0, 0, 0],\n",
       "       [0, 0, 0, 0, 0, 0, 0, 0, 0, 1, 0, 0, 0, 0, 0, 0, 0, 0, 0, 0],\n",
       "       [0, 0, 0, 0, 0, 0, 0, 1, 0, 0, 0, 0, 0, 0, 0, 0, 0, 0, 0, 0],\n",
       "       [0, 0, 0, 0, 0, 0, 0, 0, 0, 0, 0, 0, 0, 0, 0, 0, 0, 0, 0, 1],\n",
       "       [0, 0, 0, 0, 0, 0, 0, 0, 0, 0, 0, 1, 0, 0, 0, 0, 0, 0, 0, 0],\n",
       "       [0, 0, 1, 0, 0, 0, 0, 0, 0, 0, 0, 0, 0, 0, 0, 0, 0, 0, 0, 0],\n",
       "       [0, 0, 0, 0, 1, 0, 0, 0, 0, 0, 0, 0, 0, 0, 0, 0, 0, 0, 0, 0],\n",
       "       [1, 0, 0, 0, 0, 0, 0, 0, 0, 0, 0, 0, 0, 0, 0, 0, 0, 0, 0, 0],\n",
       "       [0, 0, 0, 0, 0, 0, 0, 0, 0, 0, 0, 0, 0, 1, 0, 0, 0, 0, 0, 0],\n",
       "       [0, 0, 0, 0, 0, 0, 0, 0, 0, 0, 0, 0, 0, 0, 0, 0, 1, 0, 0, 0]],\n",
       "      dtype=int64)"
      ]
     },
     "execution_count": 83,
     "metadata": {},
     "output_type": "execute_result"
    }
   ],
   "source": [
    "cv.fit_transform(s).toarray()"
   ]
  },
  {
   "cell_type": "code",
   "execution_count": 84,
   "id": "e58db3d7",
   "metadata": {},
   "outputs": [],
   "source": [
    "def textPreprocessing(df):\n",
    "    temp=[]\n",
    "    for i in range(len(df)):\n",
    "        s=df['Reviews'][i]\n",
    "        s=s.lower() \n",
    "        s=word_tokenize(s)\n",
    "        s=[ word for word in s if word not in stopwords ]\n",
    "        s=\" \".join(s)\n",
    "        patterns=r\"[^a-zA-Z\\s]\"\n",
    "        cleaned_s=re.sub(patterns,\"\",s)\n",
    "        s=cleaned_s.split()\n",
    "        s=[stemmer.stem(word) for word in s]\n",
    "        temp.append(\" \".join(s))  \n",
    "    temp=cv.fit_transform(temp).toarray()\n",
    "\n",
    "    return temp\n",
    "    "
   ]
  },
  {
   "cell_type": "code",
   "execution_count": 85,
   "id": "03d035b1",
   "metadata": {},
   "outputs": [
    {
     "data": {
      "text/plain": [
       "array([[0, 0, 0, ..., 0, 0, 0],\n",
       "       [0, 0, 0, ..., 0, 0, 0],\n",
       "       [0, 0, 0, ..., 0, 0, 0],\n",
       "       ...,\n",
       "       [0, 0, 0, ..., 0, 0, 0],\n",
       "       [0, 0, 0, ..., 0, 0, 0],\n",
       "       [0, 0, 0, ..., 0, 0, 0]], dtype=int64)"
      ]
     },
     "execution_count": 85,
     "metadata": {},
     "output_type": "execute_result"
    }
   ],
   "source": [
    "X=textPreprocessing(df)\n",
    "X"
   ]
  },
  {
   "cell_type": "code",
   "execution_count": 86,
   "id": "c0ce008d",
   "metadata": {},
   "outputs": [
    {
     "data": {
      "text/plain": [
       "(418, 1812)"
      ]
     },
     "execution_count": 86,
     "metadata": {},
     "output_type": "execute_result"
    }
   ],
   "source": [
    "y=df['sentiment']\n",
    "X.shape"
   ]
  },
  {
   "cell_type": "code",
   "execution_count": 87,
   "id": "26d21fd7",
   "metadata": {},
   "outputs": [],
   "source": [
    "from sklearn.model_selection import train_test_split"
   ]
  },
  {
   "cell_type": "code",
   "execution_count": 88,
   "id": "f0d0640f",
   "metadata": {},
   "outputs": [],
   "source": [
    "X_train, X_test, y_train, y_test = train_test_split( X, y, test_size=0.33, random_state=42)\n"
   ]
  },
  {
   "cell_type": "code",
   "execution_count": 89,
   "id": "6b8462be",
   "metadata": {},
   "outputs": [
    {
     "data": {
      "text/plain": [
       "((280, 1812), (138, 1812), (280,), (138,))"
      ]
     },
     "execution_count": 89,
     "metadata": {},
     "output_type": "execute_result"
    }
   ],
   "source": [
    "X_train.shape, X_test.shape, y_train.shape, y_test.shape"
   ]
  },
  {
   "cell_type": "code",
   "execution_count": 90,
   "id": "441f7d3b",
   "metadata": {},
   "outputs": [],
   "source": [
    "from sklearn.naive_bayes import MultinomialNB"
   ]
  },
  {
   "cell_type": "code",
   "execution_count": 91,
   "id": "069c722b",
   "metadata": {},
   "outputs": [],
   "source": [
    "model=MultinomialNB()"
   ]
  },
  {
   "cell_type": "code",
   "execution_count": 92,
   "id": "231aa012",
   "metadata": {},
   "outputs": [
    {
     "data": {
      "text/plain": [
       "MultinomialNB()"
      ]
     },
     "execution_count": 92,
     "metadata": {},
     "output_type": "execute_result"
    }
   ],
   "source": [
    "model.fit(X_train,y_train)"
   ]
  },
  {
   "cell_type": "code",
   "execution_count": 93,
   "id": "f469a631",
   "metadata": {},
   "outputs": [],
   "source": [
    "y_pred=model.predict(X_test)"
   ]
  },
  {
   "cell_type": "code",
   "execution_count": 94,
   "id": "2276b661",
   "metadata": {},
   "outputs": [
    {
     "data": {
      "image/png": "[encoded data removed]",
      "text/plain": [
       "<Figure size 800x600 with 1 Axes>"
      ]
     },
     "metadata": {},
     "output_type": "display_data"
    }
   ],
   "source": [
    "plt.figure(figsize=(8, 6))\n",
    "plt.scatter(y_test, y_pred, color='blue', label='Actual vs. Predicted')\n",
    "\n",
    "plt.plot([min(y_test), max(y_test)], [min(y_test), max(y_test)], linestyle='--', color='red', label='Perfect Predictions')\n",
    "\n",
    "plt.xlabel('Actual Values')\n",
    "plt.ylabel('Predicted Values')\n",
    "plt.title('Actual vs. Predicted Values')\n",
    "\n",
    "plt.legend()\n",
    "\n",
    "plt.show()"
   ]
  },
  {
   "cell_type": "code",
   "execution_count": 95,
   "id": "8d35257e",
   "metadata": {},
   "outputs": [
    {
     "data": {
      "image/png": "[encoded data removed]",
      "text/plain": [
       "<Figure size 600x600 with 3 Axes>"
      ]
     },
     "metadata": {},
     "output_type": "display_data"
    }
   ],
   "source": [
    "sns.set(style=\"whitegrid\")\n",
    "g = sns.jointplot(x=y_test, y=y_pred, kind=\"reg\", color=\"blue\")\n",
    "\n",
    "g.set_axis_labels(\"Actual Values\", \"Predicted Values\")\n",
    "g.fig.suptitle('Actual vs. Predicted Values')\n",
    "\n",
    "# Show the plot\n",
    "plt.show()"
   ]
  },
  {
   "cell_type": "code",
   "execution_count": 115,
   "id": "adfd9afd",
   "metadata": {},
   "outputs": [
    {
     "data": {
      "image/png": "[encoded data removed]",
      "text/plain": [
       "<Figure size 1200x500 with 1 Axes>"
      ]
     },
     "metadata": {},
     "output_type": "display_data"
    }
   ],
   "source": [
    "import matplotlib.pyplot as plt\n",
    "from sklearn.metrics import roc_curve, auc, precision_recall_curve, average_precision_score\n",
    "report_resampled = classification_report(y_test, y_pred)\n",
    "import matplotlib.pyplot as plt\n",
    "from sklearn.metrics import roc_curve, auc, precision_recall_curve, average_precision_score\n",
    "\n",
    "fpr_original, tpr_original, _ = roc_curve(y_test, model.predict_proba(X_test)[:, 1])\n",
    "roc_auc_original = auc(fpr_original, tpr_original)\n",
    "\n",
    "fpr_resampled, tpr_resampled, _ = roc_curve(y_test, model.predict_proba(X_test)[:, 1])\n",
    "roc_auc_resampled = auc(fpr_resampled, tpr_resampled)\n",
    "\n",
    "precision_original, recall_original, _ = precision_recall_curve(y_test, model.predict_proba(X_test)[:, 1])\n",
    "average_precision_original = average_precision_score(y_test, model.predict_proba(X_test)[:, 1])\n",
    "\n",
    "precision_resampled, recall_resampled, _ = precision_recall_curve(y_test, model.predict_proba(X_test)[:, 1])\n",
    "average_precision_resampled = average_precision_score(y_test, model.predict_proba(X_test)[:, 1])\n",
    "\n",
    "# Plot ROC curves\n",
    "plt.figure(figsize=(12, 5))\n",
    "plt.subplot(1, 2, 1)\n",
    "plt.plot(fpr_original, tpr_original, color='darkorange', lw=2, label=f'Original (AUC = {roc_auc_original:.2f})')\n",
    "plt.plot(fpr_resampled, tpr_resampled, color='darkgreen', lw=2, label=f'SMOTE (AUC = {roc_auc_resampled:.2f})')\n",
    "plt.plot([0, 1], [0, 1], color='navy', lw=2, linestyle='--')\n",
    "plt.xlim([0.0, 1.0])\n",
    "plt.ylim([0.0, 1.05])\n",
    "plt.xlabel('False Positive Rate')\n",
    "plt.ylabel('True Positive Rate')\n",
    "plt.title('Receiver Operating Characteristic')\n",
    "plt.legend(loc='lower right')\n",
    "\n",
    "\n",
    "plt.tight_layout()\n",
    "plt.show()\n"
   ]
  },
  {
   "cell_type": "code",
   "execution_count": 96,
   "id": "a3fdf081",
   "metadata": {},
   "outputs": [
    {
     "data": {
      "text/html": [
       "<div>\n",
       "<style scoped>\n",
       "    .dataframe tbody tr th:only-of-type {\n",
       "        vertical-align: middle;\n",
       "    }\n",
       "\n",
       "    .dataframe tbody tr th {\n",
       "        vertical-align: top;\n",
       "    }\n",
       "\n",
       "    .dataframe thead th {\n",
       "        text-align: right;\n",
       "    }\n",
       "</style>\n",
       "<table border=\"1\" class=\"dataframe\">\n",
       "  <thead>\n",
       "    <tr style=\"text-align: right;\">\n",
       "      <th></th>\n",
       "      <th>Reviews</th>\n",
       "      <th>sentiment</th>\n",
       "      <th>Prediced</th>\n",
       "    </tr>\n",
       "  </thead>\n",
       "  <tbody>\n",
       "    <tr>\n",
       "      <th>16</th>\n",
       "      <td>I have had good food there before. But I have ...</td>\n",
       "      <td>0.0</td>\n",
       "      <td>0.0</td>\n",
       "    </tr>\n",
       "    <tr>\n",
       "      <th>180</th>\n",
       "      <td>Amazing food with reasonable price. I went the...</td>\n",
       "      <td>1.0</td>\n",
       "      <td>1.0</td>\n",
       "    </tr>\n",
       "    <tr>\n",
       "      <th>152</th>\n",
       "      <td>This is great. The food is hot,clean and tasty...</td>\n",
       "      <td>1.0</td>\n",
       "      <td>1.0</td>\n",
       "    </tr>\n",
       "    <tr>\n",
       "      <th>30</th>\n",
       "      <td>Its the best Restaurant for Chinese &amp; Indian F...</td>\n",
       "      <td>1.0</td>\n",
       "      <td>1.0</td>\n",
       "    </tr>\n",
       "    <tr>\n",
       "      <th>313</th>\n",
       "      <td>Excellent Service, the staff is very polite an...</td>\n",
       "      <td>1.0</td>\n",
       "      <td>1.0</td>\n",
       "    </tr>\n",
       "    <tr>\n",
       "      <th>144</th>\n",
       "      <td>Due to some unexpected turn of events ended up...</td>\n",
       "      <td>1.0</td>\n",
       "      <td>1.0</td>\n",
       "    </tr>\n",
       "    <tr>\n",
       "      <th>121</th>\n",
       "      <td>Had a great expectation about the Grand Market...</td>\n",
       "      <td>1.0</td>\n",
       "      <td>1.0</td>\n",
       "    </tr>\n",
       "    <tr>\n",
       "      <th>110</th>\n",
       "      <td>Dear Guest, Namaste! Thank you for sharing you...</td>\n",
       "      <td>1.0</td>\n",
       "      <td>1.0</td>\n",
       "    </tr>\n",
       "    <tr>\n",
       "      <th>384</th>\n",
       "      <td>Fairway has great pizza, the best! I am picky ...</td>\n",
       "      <td>1.0</td>\n",
       "      <td>1.0</td>\n",
       "    </tr>\n",
       "    <tr>\n",
       "      <th>337</th>\n",
       "      <td>Breakfast was delicious. Like a good homestyle...</td>\n",
       "      <td>1.0</td>\n",
       "      <td>1.0</td>\n",
       "    </tr>\n",
       "  </tbody>\n",
       "</table>\n",
       "</div>"
      ],
      "text/plain": [
       "                                               Reviews  sentiment  Prediced\n",
       "16   I have had good food there before. But I have ...        0.0       0.0\n",
       "180  Amazing food with reasonable price. I went the...        1.0       1.0\n",
       "152  This is great. The food is hot,clean and tasty...        1.0       1.0\n",
       "30   Its the best Restaurant for Chinese & Indian F...        1.0       1.0\n",
       "313  Excellent Service, the staff is very polite an...        1.0       1.0\n",
       "144  Due to some unexpected turn of events ended up...        1.0       1.0\n",
       "121  Had a great expectation about the Grand Market...        1.0       1.0\n",
       "110  Dear Guest, Namaste! Thank you for sharing you...        1.0       1.0\n",
       "384  Fairway has great pizza, the best! I am picky ...        1.0       1.0\n",
       "337  Breakfast was delicious. Like a good homestyle...        1.0       1.0"
      ]
     },
     "execution_count": 96,
     "metadata": {},
     "output_type": "execute_result"
    }
   ],
   "source": [
    "y_pred\n",
    "df[\"Prediced\"]=model.predict(X)\n",
    "df.sample(10)"
   ]
  },
  {
   "cell_type": "code",
   "execution_count": 97,
   "id": "0a859c6e",
   "metadata": {},
   "outputs": [],
   "source": [
    "from sklearn.metrics import confusion_matrix,classification_report,accuracy_score"
   ]
  },
  {
   "cell_type": "code",
   "execution_count": 98,
   "id": "371e6581",
   "metadata": {},
   "outputs": [
    {
     "data": {
      "image/png": "[encoded data removed]",
      "text/plain": [
       "<Figure size 800x1000 with 2 Axes>"
      ]
     },
     "metadata": {},
     "output_type": "display_data"
    }
   ],
   "source": [
    "cm=confusion_matrix(y_test,y_pred)\n",
    "plt.figure(figsize=(8,10))\n",
    "sns.heatmap(cm,cmap='crest')\n",
    "plt.show()"
   ]
  },
  {
   "cell_type": "code",
   "execution_count": 99,
   "id": "dd1dcba4",
   "metadata": {},
   "outputs": [
    {
     "name": "stdout",
     "output_type": "stream",
     "text": [
      "0.9130434782608695\n"
     ]
    }
   ],
   "source": [
    "accuracy=accuracy_score(y_test,y_pred)\n",
    "print(accuracy)"
   ]
  },
  {
   "cell_type": "code",
   "execution_count": 100,
   "id": "39460025",
   "metadata": {},
   "outputs": [
    {
     "data": {
      "text/html": [
       "<div>\n",
       "<style scoped>\n",
       "    .dataframe tbody tr th:only-of-type {\n",
       "        vertical-align: middle;\n",
       "    }\n",
       "\n",
       "    .dataframe tbody tr th {\n",
       "        vertical-align: top;\n",
       "    }\n",
       "\n",
       "    .dataframe thead th {\n",
       "        text-align: right;\n",
       "    }\n",
       "</style>\n",
       "<table border=\"1\" class=\"dataframe\">\n",
       "  <thead>\n",
       "    <tr style=\"text-align: right;\">\n",
       "      <th></th>\n",
       "      <th>precision</th>\n",
       "      <th>recall</th>\n",
       "      <th>f1-score</th>\n",
       "      <th>support</th>\n",
       "    </tr>\n",
       "  </thead>\n",
       "  <tbody>\n",
       "    <tr>\n",
       "      <th>0.0</th>\n",
       "      <td>0.722222</td>\n",
       "      <td>0.650000</td>\n",
       "      <td>0.684211</td>\n",
       "      <td>20.000000</td>\n",
       "    </tr>\n",
       "    <tr>\n",
       "      <th>1.0</th>\n",
       "      <td>0.941667</td>\n",
       "      <td>0.957627</td>\n",
       "      <td>0.949580</td>\n",
       "      <td>118.000000</td>\n",
       "    </tr>\n",
       "    <tr>\n",
       "      <th>accuracy</th>\n",
       "      <td>0.913043</td>\n",
       "      <td>0.913043</td>\n",
       "      <td>0.913043</td>\n",
       "      <td>0.913043</td>\n",
       "    </tr>\n",
       "    <tr>\n",
       "      <th>macro avg</th>\n",
       "      <td>0.831944</td>\n",
       "      <td>0.803814</td>\n",
       "      <td>0.816895</td>\n",
       "      <td>138.000000</td>\n",
       "    </tr>\n",
       "    <tr>\n",
       "      <th>weighted avg</th>\n",
       "      <td>0.909863</td>\n",
       "      <td>0.913043</td>\n",
       "      <td>0.911121</td>\n",
       "      <td>138.000000</td>\n",
       "    </tr>\n",
       "  </tbody>\n",
       "</table>\n",
       "</div>"
      ],
      "text/plain": [
       "              precision    recall  f1-score     support\n",
       "0.0            0.722222  0.650000  0.684211   20.000000\n",
       "1.0            0.941667  0.957627  0.949580  118.000000\n",
       "accuracy       0.913043  0.913043  0.913043    0.913043\n",
       "macro avg      0.831944  0.803814  0.816895  138.000000\n",
       "weighted avg   0.909863  0.913043  0.911121  138.000000"
      ]
     },
     "execution_count": 100,
     "metadata": {},
     "output_type": "execute_result"
    }
   ],
   "source": [
    "report=classification_report(y_test,y_pred,output_dict=True)\n",
    "\n",
    "report_df = pd.DataFrame(report).transpose()\n",
    "report_df"
   ]
  },
  {
   "cell_type": "code",
   "execution_count": 101,
   "id": "0d4c3195",
   "metadata": {},
   "outputs": [],
   "source": [
    "import joblib"
   ]
  },
  {
   "cell_type": "code",
   "execution_count": 102,
   "id": "4d696c21",
   "metadata": {},
   "outputs": [
    {
     "data": {
      "text/plain": [
       "['Resturant_Review_SentimentAnalysis.pkl']"
      ]
     },
     "execution_count": 102,
     "metadata": {},
     "output_type": "execute_result"
    }
   ],
   "source": [
    "joblib.dump(model,'Resturant_Review_SentimentAnalysis.pkl')"
   ]
  }
 ],
 "metadata": {
  "kernelspec": {
   "display_name": "Python 3 (ipykernel)",
   "language": "python",
   "name": "python3"
  },
  "language_info": {
   "codemirror_mode": {
    "name": "ipython",
    "version": 3
   },
   "file_extension": ".py",
   "mimetype": "text/x-python",
   "name": "python",
   "nbconvert_exporter": "python",
   "pygments_lexer": "ipython3",
   "version": "3.9.12"
  }
 },
 "nbformat": 4,
 "nbformat_minor": 5
}
